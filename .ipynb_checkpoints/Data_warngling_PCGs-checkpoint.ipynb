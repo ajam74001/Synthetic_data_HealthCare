{
 "cells": [
  {
   "cell_type": "code",
   "execution_count": 140,
   "metadata": {},
   "outputs": [],
   "source": [
    "import numpy as np\n",
    "import pandas as pd\n",
    "# import torch \n",
    "# import torchvision \n",
    "# from torch.utils.data import Dataset, DataLoader, WeightedRandomSampler\n",
    "import math\n",
    "# from keras.utils.np_utils import to_categorical\n",
    "from sklearn.preprocessing import LabelEncoder\n",
    "from sklearn.preprocessing import OneHotEncoder\n",
    "from sklearn.model_selection import train_test_split\n",
    "import librosa\n",
    "import librosa.display\n",
    "import scipy.io\n",
    "import scipy.io as sio\n",
    "from torch.utils.data import Dataset\n",
    "import torch"
   ]
  },
  {
   "cell_type": "code",
   "execution_count": 156,
   "metadata": {},
   "outputs": [],
   "source": [
    "# get the normal ones but while getting a error regading a specific mv.pv etc write a try except block and find out which one is avaiable\n",
    "# TODO :add the resampling stuff here in the data loader : DONE!\n",
    "class Data_loader():\n",
    "    def __init__(self, path_demo, path_sig, encode=True):\n",
    "#         self.record_type = record_type\n",
    "        self.path_sig = path_sig\n",
    "        self.demo_data = pd.read_csv(path_demo) # example:~/courses/bio-sig/datasets/D1/physionet.org/files/circor-heart-sound/1.0.3/training_data.csv\n",
    "        # print(self.demo_data['Outcome'].unique)\n",
    "        # u need to filter the type of acsultation signals then being normal!!! \n",
    "#         self.demo_data = self.demo_data[(self.demo_data['Recording locations:'] == \"AV\") | (self.demo_data['Recording locations:'] == \"PV\") | (self.demo_data['Recording locations:'] == \"TV\") | (self.demo_data['Recording locations:'] == \"MV\")]\n",
    "        self.subject_ids = self.demo_data[self.demo_data['Outcome'] == \"Normal\"]['Patient ID'] \n",
    "        # getting all the subjects that all the recordings are available # check if only AV-PV-TV-MV has enough of data to proceed wiht \n",
    "        self.subject_ids = self.subject_ids.reset_index(drop=True)\n",
    "#         print(self.demo_data.head())\n",
    "#         print(self.subject_ids[22])\n",
    "\n",
    "        self.demo_data = self.demo_data[[\"Patient ID\", \"Murmur\", \"Outcome\"]]\n",
    "        if encode:\n",
    "            label_encoder= LabelEncoder()\n",
    "            self.demo_data['Murmur']= label_encoder.fit_transform(self.demo_data['Murmur']) # Murmur is absent/present/Unknown \n",
    "            self.demo_data['Outcome']= label_encoder.fit_transform(self.demo_data['Outcome']) # Diagnosed by the medical expert: normal/abnormal\n",
    "\n",
    "\n",
    "    def len(self):\n",
    "        return self. subject_ids.shape[0]\n",
    "    \n",
    "    def get_item(self, index ):\n",
    "        ret = {}\n",
    "        record_type = 'AV'\n",
    "        ret['subject_id'] = self.subject_ids[index]\n",
    "        ret['record_type'] = record_type\n",
    "        path_root = f\"{self.path_sig}/{self.subject_ids[index]}_{record_type}\"\n",
    "#         audio , ret['sr'] = librosa.load(f\"{path_root}.wav\", mono=True, sr=None) # ret['sr'] is the sampling rate \n",
    "        try:\n",
    "            audio , ret['sr'] = librosa.load(f\"{path_root}.wav\", mono=True, sr=None)\n",
    "        except FileNotFoundError:\n",
    "            try:\n",
    "                path_root = f\"{self.path_sig}/{self.subject_ids[index]}_{'PV'}\"\n",
    "                audio , ret['sr'] = librosa.load(f\"{path_root}.wav\", mono=True, sr=None)\n",
    "            except FileNotFoundError:\n",
    "                try:\n",
    "                    path_root = f\"{self.path_sig}/{self.subject_ids[index]}_{'TV'}\"\n",
    "                    audio , ret['sr'] = librosa.load(f\"{path_root}.wav\", mono=True, sr=None)\n",
    "                except FileNotFoundError:\n",
    "                    try:\n",
    "                        path_root = f\"{self.path_sig}/{self.subject_ids[index]}_{'MV'}\"\n",
    "                        audio , ret['sr'] = librosa.load(f\"{path_root}.wav\", mono=True, sr=None)\n",
    "                    except:\n",
    "                        pass\n",
    "        # Compute the spectrogram of the audio signal to the aim of resampling \n",
    "        D = np.abs(librosa.stft(audio))\n",
    "\n",
    "        # Find the frequency bin with the maximum energy\n",
    "        max_bin = np.argmax(D, axis=0)\n",
    "\n",
    "        # Convert the frequency bin to Hertz\n",
    "        frequencies = librosa.fft_frequencies(sr=ret['sr'])\n",
    "        highest_frequency = np.max(frequencies[max_bin]) # getting the highest frequency in the spectrum of the signal        ret['audio'] = librosa.resample(data['audio'], orig_sr=data['sr'], target_sr=highest_frequency*2)\n",
    "        ret['audio'] = librosa.resample(audio, orig_sr=ret['sr'], target_sr=highest_frequency*2)\n",
    "        ret['murmur'], ret['outcome'] = self.demo_data[self.demo_data['Patient ID']==self.subject_ids[index]][['Murmur', 'Outcome']].iloc[0]\n",
    "        return ret\n",
    "        \n",
    "    "
   ]
  },
  {
   "cell_type": "code",
   "execution_count": 157,
   "metadata": {
    "scrolled": true
   },
   "outputs": [
    {
     "name": "stdout",
     "output_type": "stream",
     "text": [
      "{'subject_id': 43852, 'record_type': 'AV', 'sr': 4000, 'audio': array([ 0.55748945,  0.3484357 , -0.11365294, ...,  0.01211817,\n",
      "        0.01389665,  0.        ], dtype=float32), 'murmur': 0, 'outcome': 1}\n",
      "486\n"
     ]
    }
   ],
   "source": [
    "\n",
    "##instance \n",
    "path_demo = \"/userfiles/ajamshidi18/courses/bio-sig/datasets/D1/physionet.org/files/circor-heart-sound/1.0.3/training_data.csv\"\n",
    "path_sig = \"/userfiles/ajamshidi18/courses/bio-sig/datasets/D1/physionet.org/files/circor-heart-sound/1.0.3/training_data\"\n",
    "data_sample = Data_loader(path_demo, path_sig)\n",
    "data = data_sample.get_item(0)\n",
    "\n",
    "print(data)\n",
    "print(data_sample.len())"
   ]
  },
  {
   "cell_type": "code",
   "execution_count": 158,
   "metadata": {},
   "outputs": [
    {
     "data": {
      "text/plain": [
       "array([ 0.55748945,  0.3484357 , -0.11365294, ...,  0.01211817,\n",
       "        0.01389665,  0.        ], dtype=float32)"
      ]
     },
     "execution_count": 158,
     "metadata": {},
     "output_type": "execute_result"
    }
   ],
   "source": [
    "data['audio']"
   ]
  },
  {
   "cell_type": "code",
   "execution_count": 150,
   "metadata": {},
   "outputs": [],
   "source": [
    "# TODO : put the try except block in the dataloader s that u wouldn’t have the loading problem \n",
    "def check_lenght(data_sample):\n",
    "    lens =[]\n",
    "    \n",
    "    for index in range(0,data_sample.len()):\n",
    "        print(index)\n",
    "        try:\n",
    "            data = data_sample.get_item(index, 'MV')\n",
    "            lens.append(len(data['audio']))\n",
    "        except FileNotFoundError:\n",
    "            try:\n",
    "                data = data_sample.get_item(index, 'PV')\n",
    "                lens.append(len(data['audio']))\n",
    "            except FileNotFoundError:\n",
    "                try:\n",
    "                    data = data_sample.get_item(index, 'TV')\n",
    "                    lens.append(len(data['audio']))\n",
    "                except FileNotFoundError:\n",
    "                    try:\n",
    "                        data = data_sample.get_item(index, 'AV') \n",
    "                        lens.append(len(data['audio']))\n",
    "                    except:\n",
    "                        pass\n",
    "                    \n",
    "    return min(lens), np.array(lens).argmin()     "
   ]
  },
  {
   "cell_type": "code",
   "execution_count": null,
   "metadata": {
    "scrolled": false
   },
   "outputs": [],
   "source": [
    "# no need for this for now \n",
    "min_len, min_index = check_lenght(data_sample)\n",
    "print('min_len', min_len , 'min_index', min_index)"
   ]
  },
  {
   "cell_type": "code",
   "execution_count": 159,
   "metadata": {},
   "outputs": [
    {
     "name": "stderr",
     "output_type": "stream",
     "text": [
      "/kuacc/users/ajamshidi18/.conda/envs/bio-sig/lib/python3.7/site-packages/librosa/core/audio.py:161: UserWarning: PySoundFile failed. Trying audioread instead.\n",
      "  warnings.warn('PySoundFile failed. Trying audioread instead.')\n",
      "/kuacc/users/ajamshidi18/.conda/envs/bio-sig/lib/python3.7/site-packages/librosa/core/audio.py:161: UserWarning: PySoundFile failed. Trying audioread instead.\n",
      "  warnings.warn('PySoundFile failed. Trying audioread instead.')\n",
      "/kuacc/users/ajamshidi18/.conda/envs/bio-sig/lib/python3.7/site-packages/librosa/core/audio.py:161: UserWarning: PySoundFile failed. Trying audioread instead.\n",
      "  warnings.warn('PySoundFile failed. Trying audioread instead.')\n",
      "/kuacc/users/ajamshidi18/.conda/envs/bio-sig/lib/python3.7/site-packages/librosa/core/audio.py:161: UserWarning: PySoundFile failed. Trying audioread instead.\n",
      "  warnings.warn('PySoundFile failed. Trying audioread instead.')\n",
      "/kuacc/users/ajamshidi18/.conda/envs/bio-sig/lib/python3.7/site-packages/librosa/core/audio.py:161: UserWarning: PySoundFile failed. Trying audioread instead.\n",
      "  warnings.warn('PySoundFile failed. Trying audioread instead.')\n",
      "/kuacc/users/ajamshidi18/.conda/envs/bio-sig/lib/python3.7/site-packages/librosa/core/audio.py:161: UserWarning: PySoundFile failed. Trying audioread instead.\n",
      "  warnings.warn('PySoundFile failed. Trying audioread instead.')\n",
      "/kuacc/users/ajamshidi18/.conda/envs/bio-sig/lib/python3.7/site-packages/librosa/core/audio.py:161: UserWarning: PySoundFile failed. Trying audioread instead.\n",
      "  warnings.warn('PySoundFile failed. Trying audioread instead.')\n",
      "/kuacc/users/ajamshidi18/.conda/envs/bio-sig/lib/python3.7/site-packages/librosa/core/audio.py:161: UserWarning: PySoundFile failed. Trying audioread instead.\n",
      "  warnings.warn('PySoundFile failed. Trying audioread instead.')\n",
      "/kuacc/users/ajamshidi18/.conda/envs/bio-sig/lib/python3.7/site-packages/librosa/core/audio.py:161: UserWarning: PySoundFile failed. Trying audioread instead.\n",
      "  warnings.warn('PySoundFile failed. Trying audioread instead.')\n",
      "/kuacc/users/ajamshidi18/.conda/envs/bio-sig/lib/python3.7/site-packages/librosa/core/audio.py:161: UserWarning: PySoundFile failed. Trying audioread instead.\n",
      "  warnings.warn('PySoundFile failed. Trying audioread instead.')\n",
      "/kuacc/users/ajamshidi18/.conda/envs/bio-sig/lib/python3.7/site-packages/librosa/core/audio.py:161: UserWarning: PySoundFile failed. Trying audioread instead.\n",
      "  warnings.warn('PySoundFile failed. Trying audioread instead.')\n",
      "/kuacc/users/ajamshidi18/.conda/envs/bio-sig/lib/python3.7/site-packages/librosa/core/audio.py:161: UserWarning: PySoundFile failed. Trying audioread instead.\n",
      "  warnings.warn('PySoundFile failed. Trying audioread instead.')\n",
      "/kuacc/users/ajamshidi18/.conda/envs/bio-sig/lib/python3.7/site-packages/librosa/core/audio.py:161: UserWarning: PySoundFile failed. Trying audioread instead.\n",
      "  warnings.warn('PySoundFile failed. Trying audioread instead.')\n",
      "/kuacc/users/ajamshidi18/.conda/envs/bio-sig/lib/python3.7/site-packages/librosa/core/audio.py:161: UserWarning: PySoundFile failed. Trying audioread instead.\n",
      "  warnings.warn('PySoundFile failed. Trying audioread instead.')\n",
      "/kuacc/users/ajamshidi18/.conda/envs/bio-sig/lib/python3.7/site-packages/librosa/core/audio.py:161: UserWarning: PySoundFile failed. Trying audioread instead.\n",
      "  warnings.warn('PySoundFile failed. Trying audioread instead.')\n",
      "/kuacc/users/ajamshidi18/.conda/envs/bio-sig/lib/python3.7/site-packages/librosa/core/audio.py:161: UserWarning: PySoundFile failed. Trying audioread instead.\n",
      "  warnings.warn('PySoundFile failed. Trying audioread instead.')\n",
      "/kuacc/users/ajamshidi18/.conda/envs/bio-sig/lib/python3.7/site-packages/librosa/core/audio.py:161: UserWarning: PySoundFile failed. Trying audioread instead.\n",
      "  warnings.warn('PySoundFile failed. Trying audioread instead.')\n",
      "/kuacc/users/ajamshidi18/.conda/envs/bio-sig/lib/python3.7/site-packages/librosa/core/audio.py:161: UserWarning: PySoundFile failed. Trying audioread instead.\n",
      "  warnings.warn('PySoundFile failed. Trying audioread instead.')\n",
      "/kuacc/users/ajamshidi18/.conda/envs/bio-sig/lib/python3.7/site-packages/librosa/core/audio.py:161: UserWarning: PySoundFile failed. Trying audioread instead.\n",
      "  warnings.warn('PySoundFile failed. Trying audioread instead.')\n",
      "/kuacc/users/ajamshidi18/.conda/envs/bio-sig/lib/python3.7/site-packages/librosa/core/audio.py:161: UserWarning: PySoundFile failed. Trying audioread instead.\n",
      "  warnings.warn('PySoundFile failed. Trying audioread instead.')\n",
      "/kuacc/users/ajamshidi18/.conda/envs/bio-sig/lib/python3.7/site-packages/librosa/core/audio.py:161: UserWarning: PySoundFile failed. Trying audioread instead.\n",
      "  warnings.warn('PySoundFile failed. Trying audioread instead.')\n",
      "/kuacc/users/ajamshidi18/.conda/envs/bio-sig/lib/python3.7/site-packages/librosa/core/audio.py:161: UserWarning: PySoundFile failed. Trying audioread instead.\n",
      "  warnings.warn('PySoundFile failed. Trying audioread instead.')\n",
      "/kuacc/users/ajamshidi18/.conda/envs/bio-sig/lib/python3.7/site-packages/librosa/core/audio.py:161: UserWarning: PySoundFile failed. Trying audioread instead.\n",
      "  warnings.warn('PySoundFile failed. Trying audioread instead.')\n",
      "/kuacc/users/ajamshidi18/.conda/envs/bio-sig/lib/python3.7/site-packages/librosa/core/audio.py:161: UserWarning: PySoundFile failed. Trying audioread instead.\n",
      "  warnings.warn('PySoundFile failed. Trying audioread instead.')\n",
      "/kuacc/users/ajamshidi18/.conda/envs/bio-sig/lib/python3.7/site-packages/librosa/core/audio.py:161: UserWarning: PySoundFile failed. Trying audioread instead.\n",
      "  warnings.warn('PySoundFile failed. Trying audioread instead.')\n",
      "/kuacc/users/ajamshidi18/.conda/envs/bio-sig/lib/python3.7/site-packages/librosa/core/audio.py:161: UserWarning: PySoundFile failed. Trying audioread instead.\n",
      "  warnings.warn('PySoundFile failed. Trying audioread instead.')\n",
      "/kuacc/users/ajamshidi18/.conda/envs/bio-sig/lib/python3.7/site-packages/librosa/core/audio.py:161: UserWarning: PySoundFile failed. Trying audioread instead.\n",
      "  warnings.warn('PySoundFile failed. Trying audioread instead.')\n",
      "/kuacc/users/ajamshidi18/.conda/envs/bio-sig/lib/python3.7/site-packages/librosa/core/audio.py:161: UserWarning: PySoundFile failed. Trying audioread instead.\n",
      "  warnings.warn('PySoundFile failed. Trying audioread instead.')\n",
      "/kuacc/users/ajamshidi18/.conda/envs/bio-sig/lib/python3.7/site-packages/librosa/core/audio.py:161: UserWarning: PySoundFile failed. Trying audioread instead.\n",
      "  warnings.warn('PySoundFile failed. Trying audioread instead.')\n",
      "/kuacc/users/ajamshidi18/.conda/envs/bio-sig/lib/python3.7/site-packages/librosa/core/audio.py:161: UserWarning: PySoundFile failed. Trying audioread instead.\n",
      "  warnings.warn('PySoundFile failed. Trying audioread instead.')\n",
      "/kuacc/users/ajamshidi18/.conda/envs/bio-sig/lib/python3.7/site-packages/librosa/core/audio.py:161: UserWarning: PySoundFile failed. Trying audioread instead.\n",
      "  warnings.warn('PySoundFile failed. Trying audioread instead.')\n",
      "/kuacc/users/ajamshidi18/.conda/envs/bio-sig/lib/python3.7/site-packages/librosa/core/audio.py:161: UserWarning: PySoundFile failed. Trying audioread instead.\n",
      "  warnings.warn('PySoundFile failed. Trying audioread instead.')\n",
      "/kuacc/users/ajamshidi18/.conda/envs/bio-sig/lib/python3.7/site-packages/librosa/core/audio.py:161: UserWarning: PySoundFile failed. Trying audioread instead.\n",
      "  warnings.warn('PySoundFile failed. Trying audioread instead.')\n",
      "/kuacc/users/ajamshidi18/.conda/envs/bio-sig/lib/python3.7/site-packages/librosa/core/audio.py:161: UserWarning: PySoundFile failed. Trying audioread instead.\n",
      "  warnings.warn('PySoundFile failed. Trying audioread instead.')\n",
      "/kuacc/users/ajamshidi18/.conda/envs/bio-sig/lib/python3.7/site-packages/librosa/core/audio.py:161: UserWarning: PySoundFile failed. Trying audioread instead.\n",
      "  warnings.warn('PySoundFile failed. Trying audioread instead.')\n",
      "/kuacc/users/ajamshidi18/.conda/envs/bio-sig/lib/python3.7/site-packages/librosa/core/audio.py:161: UserWarning: PySoundFile failed. Trying audioread instead.\n",
      "  warnings.warn('PySoundFile failed. Trying audioread instead.')\n",
      "/kuacc/users/ajamshidi18/.conda/envs/bio-sig/lib/python3.7/site-packages/librosa/core/audio.py:161: UserWarning: PySoundFile failed. Trying audioread instead.\n",
      "  warnings.warn('PySoundFile failed. Trying audioread instead.')\n",
      "/kuacc/users/ajamshidi18/.conda/envs/bio-sig/lib/python3.7/site-packages/librosa/core/audio.py:161: UserWarning: PySoundFile failed. Trying audioread instead.\n",
      "  warnings.warn('PySoundFile failed. Trying audioread instead.')\n",
      "/kuacc/users/ajamshidi18/.conda/envs/bio-sig/lib/python3.7/site-packages/librosa/core/audio.py:161: UserWarning: PySoundFile failed. Trying audioread instead.\n",
      "  warnings.warn('PySoundFile failed. Trying audioread instead.')\n"
     ]
    },
    {
     "name": "stderr",
     "output_type": "stream",
     "text": [
      "/kuacc/users/ajamshidi18/.conda/envs/bio-sig/lib/python3.7/site-packages/librosa/core/audio.py:161: UserWarning: PySoundFile failed. Trying audioread instead.\n",
      "  warnings.warn('PySoundFile failed. Trying audioread instead.')\n",
      "/kuacc/users/ajamshidi18/.conda/envs/bio-sig/lib/python3.7/site-packages/librosa/core/audio.py:161: UserWarning: PySoundFile failed. Trying audioread instead.\n",
      "  warnings.warn('PySoundFile failed. Trying audioread instead.')\n",
      "/kuacc/users/ajamshidi18/.conda/envs/bio-sig/lib/python3.7/site-packages/librosa/core/audio.py:161: UserWarning: PySoundFile failed. Trying audioread instead.\n",
      "  warnings.warn('PySoundFile failed. Trying audioread instead.')\n",
      "/kuacc/users/ajamshidi18/.conda/envs/bio-sig/lib/python3.7/site-packages/librosa/core/audio.py:161: UserWarning: PySoundFile failed. Trying audioread instead.\n",
      "  warnings.warn('PySoundFile failed. Trying audioread instead.')\n",
      "/kuacc/users/ajamshidi18/.conda/envs/bio-sig/lib/python3.7/site-packages/librosa/core/audio.py:161: UserWarning: PySoundFile failed. Trying audioread instead.\n",
      "  warnings.warn('PySoundFile failed. Trying audioread instead.')\n",
      "/kuacc/users/ajamshidi18/.conda/envs/bio-sig/lib/python3.7/site-packages/librosa/core/audio.py:161: UserWarning: PySoundFile failed. Trying audioread instead.\n",
      "  warnings.warn('PySoundFile failed. Trying audioread instead.')\n",
      "/kuacc/users/ajamshidi18/.conda/envs/bio-sig/lib/python3.7/site-packages/librosa/core/audio.py:161: UserWarning: PySoundFile failed. Trying audioread instead.\n",
      "  warnings.warn('PySoundFile failed. Trying audioread instead.')\n",
      "/kuacc/users/ajamshidi18/.conda/envs/bio-sig/lib/python3.7/site-packages/librosa/core/audio.py:161: UserWarning: PySoundFile failed. Trying audioread instead.\n",
      "  warnings.warn('PySoundFile failed. Trying audioread instead.')\n",
      "/kuacc/users/ajamshidi18/.conda/envs/bio-sig/lib/python3.7/site-packages/librosa/core/audio.py:161: UserWarning: PySoundFile failed. Trying audioread instead.\n",
      "  warnings.warn('PySoundFile failed. Trying audioread instead.')\n",
      "/kuacc/users/ajamshidi18/.conda/envs/bio-sig/lib/python3.7/site-packages/librosa/core/audio.py:161: UserWarning: PySoundFile failed. Trying audioread instead.\n",
      "  warnings.warn('PySoundFile failed. Trying audioread instead.')\n",
      "/kuacc/users/ajamshidi18/.conda/envs/bio-sig/lib/python3.7/site-packages/librosa/core/audio.py:161: UserWarning: PySoundFile failed. Trying audioread instead.\n",
      "  warnings.warn('PySoundFile failed. Trying audioread instead.')\n",
      "/kuacc/users/ajamshidi18/.conda/envs/bio-sig/lib/python3.7/site-packages/librosa/core/audio.py:161: UserWarning: PySoundFile failed. Trying audioread instead.\n",
      "  warnings.warn('PySoundFile failed. Trying audioread instead.')\n",
      "/kuacc/users/ajamshidi18/.conda/envs/bio-sig/lib/python3.7/site-packages/librosa/core/audio.py:161: UserWarning: PySoundFile failed. Trying audioread instead.\n",
      "  warnings.warn('PySoundFile failed. Trying audioread instead.')\n",
      "/kuacc/users/ajamshidi18/.conda/envs/bio-sig/lib/python3.7/site-packages/librosa/core/audio.py:161: UserWarning: PySoundFile failed. Trying audioread instead.\n",
      "  warnings.warn('PySoundFile failed. Trying audioread instead.')\n",
      "/kuacc/users/ajamshidi18/.conda/envs/bio-sig/lib/python3.7/site-packages/librosa/core/audio.py:161: UserWarning: PySoundFile failed. Trying audioread instead.\n",
      "  warnings.warn('PySoundFile failed. Trying audioread instead.')\n",
      "/kuacc/users/ajamshidi18/.conda/envs/bio-sig/lib/python3.7/site-packages/librosa/core/audio.py:161: UserWarning: PySoundFile failed. Trying audioread instead.\n",
      "  warnings.warn('PySoundFile failed. Trying audioread instead.')\n",
      "/kuacc/users/ajamshidi18/.conda/envs/bio-sig/lib/python3.7/site-packages/librosa/core/audio.py:161: UserWarning: PySoundFile failed. Trying audioread instead.\n",
      "  warnings.warn('PySoundFile failed. Trying audioread instead.')\n",
      "/kuacc/users/ajamshidi18/.conda/envs/bio-sig/lib/python3.7/site-packages/librosa/core/audio.py:161: UserWarning: PySoundFile failed. Trying audioread instead.\n",
      "  warnings.warn('PySoundFile failed. Trying audioread instead.')\n",
      "/kuacc/users/ajamshidi18/.conda/envs/bio-sig/lib/python3.7/site-packages/librosa/core/audio.py:161: UserWarning: PySoundFile failed. Trying audioread instead.\n",
      "  warnings.warn('PySoundFile failed. Trying audioread instead.')\n",
      "/kuacc/users/ajamshidi18/.conda/envs/bio-sig/lib/python3.7/site-packages/librosa/core/audio.py:161: UserWarning: PySoundFile failed. Trying audioread instead.\n",
      "  warnings.warn('PySoundFile failed. Trying audioread instead.')\n",
      "/kuacc/users/ajamshidi18/.conda/envs/bio-sig/lib/python3.7/site-packages/librosa/core/audio.py:161: UserWarning: PySoundFile failed. Trying audioread instead.\n",
      "  warnings.warn('PySoundFile failed. Trying audioread instead.')\n",
      "/kuacc/users/ajamshidi18/.conda/envs/bio-sig/lib/python3.7/site-packages/librosa/core/audio.py:161: UserWarning: PySoundFile failed. Trying audioread instead.\n",
      "  warnings.warn('PySoundFile failed. Trying audioread instead.')\n",
      "/kuacc/users/ajamshidi18/.conda/envs/bio-sig/lib/python3.7/site-packages/librosa/core/audio.py:161: UserWarning: PySoundFile failed. Trying audioread instead.\n",
      "  warnings.warn('PySoundFile failed. Trying audioread instead.')\n",
      "/kuacc/users/ajamshidi18/.conda/envs/bio-sig/lib/python3.7/site-packages/librosa/core/audio.py:161: UserWarning: PySoundFile failed. Trying audioread instead.\n",
      "  warnings.warn('PySoundFile failed. Trying audioread instead.')\n",
      "/kuacc/users/ajamshidi18/.conda/envs/bio-sig/lib/python3.7/site-packages/librosa/core/audio.py:161: UserWarning: PySoundFile failed. Trying audioread instead.\n",
      "  warnings.warn('PySoundFile failed. Trying audioread instead.')\n",
      "/kuacc/users/ajamshidi18/.conda/envs/bio-sig/lib/python3.7/site-packages/librosa/core/audio.py:161: UserWarning: PySoundFile failed. Trying audioread instead.\n",
      "  warnings.warn('PySoundFile failed. Trying audioread instead.')\n",
      "/kuacc/users/ajamshidi18/.conda/envs/bio-sig/lib/python3.7/site-packages/librosa/core/audio.py:161: UserWarning: PySoundFile failed. Trying audioread instead.\n",
      "  warnings.warn('PySoundFile failed. Trying audioread instead.')\n",
      "/kuacc/users/ajamshidi18/.conda/envs/bio-sig/lib/python3.7/site-packages/librosa/core/audio.py:161: UserWarning: PySoundFile failed. Trying audioread instead.\n",
      "  warnings.warn('PySoundFile failed. Trying audioread instead.')\n",
      "/kuacc/users/ajamshidi18/.conda/envs/bio-sig/lib/python3.7/site-packages/librosa/core/audio.py:161: UserWarning: PySoundFile failed. Trying audioread instead.\n",
      "  warnings.warn('PySoundFile failed. Trying audioread instead.')\n",
      "/kuacc/users/ajamshidi18/.conda/envs/bio-sig/lib/python3.7/site-packages/librosa/core/audio.py:161: UserWarning: PySoundFile failed. Trying audioread instead.\n",
      "  warnings.warn('PySoundFile failed. Trying audioread instead.')\n",
      "/kuacc/users/ajamshidi18/.conda/envs/bio-sig/lib/python3.7/site-packages/librosa/core/audio.py:161: UserWarning: PySoundFile failed. Trying audioread instead.\n",
      "  warnings.warn('PySoundFile failed. Trying audioread instead.')\n",
      "/kuacc/users/ajamshidi18/.conda/envs/bio-sig/lib/python3.7/site-packages/librosa/core/audio.py:161: UserWarning: PySoundFile failed. Trying audioread instead.\n",
      "  warnings.warn('PySoundFile failed. Trying audioread instead.')\n",
      "/kuacc/users/ajamshidi18/.conda/envs/bio-sig/lib/python3.7/site-packages/librosa/core/audio.py:161: UserWarning: PySoundFile failed. Trying audioread instead.\n",
      "  warnings.warn('PySoundFile failed. Trying audioread instead.')\n",
      "/kuacc/users/ajamshidi18/.conda/envs/bio-sig/lib/python3.7/site-packages/librosa/core/audio.py:161: UserWarning: PySoundFile failed. Trying audioread instead.\n",
      "  warnings.warn('PySoundFile failed. Trying audioread instead.')\n",
      "/kuacc/users/ajamshidi18/.conda/envs/bio-sig/lib/python3.7/site-packages/librosa/core/audio.py:161: UserWarning: PySoundFile failed. Trying audioread instead.\n",
      "  warnings.warn('PySoundFile failed. Trying audioread instead.')\n",
      "/kuacc/users/ajamshidi18/.conda/envs/bio-sig/lib/python3.7/site-packages/librosa/core/audio.py:161: UserWarning: PySoundFile failed. Trying audioread instead.\n",
      "  warnings.warn('PySoundFile failed. Trying audioread instead.')\n",
      "/kuacc/users/ajamshidi18/.conda/envs/bio-sig/lib/python3.7/site-packages/librosa/core/audio.py:161: UserWarning: PySoundFile failed. Trying audioread instead.\n",
      "  warnings.warn('PySoundFile failed. Trying audioread instead.')\n",
      "/kuacc/users/ajamshidi18/.conda/envs/bio-sig/lib/python3.7/site-packages/librosa/core/audio.py:161: UserWarning: PySoundFile failed. Trying audioread instead.\n",
      "  warnings.warn('PySoundFile failed. Trying audioread instead.')\n"
     ]
    },
    {
     "name": "stderr",
     "output_type": "stream",
     "text": [
      "/kuacc/users/ajamshidi18/.conda/envs/bio-sig/lib/python3.7/site-packages/librosa/core/audio.py:161: UserWarning: PySoundFile failed. Trying audioread instead.\n",
      "  warnings.warn('PySoundFile failed. Trying audioread instead.')\n",
      "/kuacc/users/ajamshidi18/.conda/envs/bio-sig/lib/python3.7/site-packages/librosa/core/audio.py:161: UserWarning: PySoundFile failed. Trying audioread instead.\n",
      "  warnings.warn('PySoundFile failed. Trying audioread instead.')\n",
      "/kuacc/users/ajamshidi18/.conda/envs/bio-sig/lib/python3.7/site-packages/librosa/core/audio.py:161: UserWarning: PySoundFile failed. Trying audioread instead.\n",
      "  warnings.warn('PySoundFile failed. Trying audioread instead.')\n",
      "/kuacc/users/ajamshidi18/.conda/envs/bio-sig/lib/python3.7/site-packages/librosa/core/audio.py:161: UserWarning: PySoundFile failed. Trying audioread instead.\n",
      "  warnings.warn('PySoundFile failed. Trying audioread instead.')\n",
      "/kuacc/users/ajamshidi18/.conda/envs/bio-sig/lib/python3.7/site-packages/librosa/core/audio.py:161: UserWarning: PySoundFile failed. Trying audioread instead.\n",
      "  warnings.warn('PySoundFile failed. Trying audioread instead.')\n",
      "/kuacc/users/ajamshidi18/.conda/envs/bio-sig/lib/python3.7/site-packages/librosa/core/audio.py:161: UserWarning: PySoundFile failed. Trying audioread instead.\n",
      "  warnings.warn('PySoundFile failed. Trying audioread instead.')\n",
      "/kuacc/users/ajamshidi18/.conda/envs/bio-sig/lib/python3.7/site-packages/librosa/core/audio.py:161: UserWarning: PySoundFile failed. Trying audioread instead.\n",
      "  warnings.warn('PySoundFile failed. Trying audioread instead.')\n",
      "/kuacc/users/ajamshidi18/.conda/envs/bio-sig/lib/python3.7/site-packages/librosa/core/audio.py:161: UserWarning: PySoundFile failed. Trying audioread instead.\n",
      "  warnings.warn('PySoundFile failed. Trying audioread instead.')\n",
      "/kuacc/users/ajamshidi18/.conda/envs/bio-sig/lib/python3.7/site-packages/librosa/core/audio.py:161: UserWarning: PySoundFile failed. Trying audioread instead.\n",
      "  warnings.warn('PySoundFile failed. Trying audioread instead.')\n",
      "/kuacc/users/ajamshidi18/.conda/envs/bio-sig/lib/python3.7/site-packages/librosa/core/audio.py:161: UserWarning: PySoundFile failed. Trying audioread instead.\n",
      "  warnings.warn('PySoundFile failed. Trying audioread instead.')\n",
      "/kuacc/users/ajamshidi18/.conda/envs/bio-sig/lib/python3.7/site-packages/librosa/core/audio.py:161: UserWarning: PySoundFile failed. Trying audioread instead.\n",
      "  warnings.warn('PySoundFile failed. Trying audioread instead.')\n",
      "/kuacc/users/ajamshidi18/.conda/envs/bio-sig/lib/python3.7/site-packages/librosa/core/audio.py:161: UserWarning: PySoundFile failed. Trying audioread instead.\n",
      "  warnings.warn('PySoundFile failed. Trying audioread instead.')\n",
      "/kuacc/users/ajamshidi18/.conda/envs/bio-sig/lib/python3.7/site-packages/librosa/core/audio.py:161: UserWarning: PySoundFile failed. Trying audioread instead.\n",
      "  warnings.warn('PySoundFile failed. Trying audioread instead.')\n",
      "/kuacc/users/ajamshidi18/.conda/envs/bio-sig/lib/python3.7/site-packages/librosa/core/audio.py:161: UserWarning: PySoundFile failed. Trying audioread instead.\n",
      "  warnings.warn('PySoundFile failed. Trying audioread instead.')\n",
      "/kuacc/users/ajamshidi18/.conda/envs/bio-sig/lib/python3.7/site-packages/librosa/core/audio.py:161: UserWarning: PySoundFile failed. Trying audioread instead.\n",
      "  warnings.warn('PySoundFile failed. Trying audioread instead.')\n"
     ]
    }
   ],
   "source": [
    "####### TODO\\: make a df out of the data instances - this is the first ty\n",
    "# import pandas as pd\n",
    "# import librosa\n",
    "# import numpy as np\n",
    "# from sklearn.preprocessing import LabelEncoder\n",
    "\n",
    "# Create a Data_loader instance\n",
    "# data_loader = Data_loader(path_demo, path_sig)\n",
    "\n",
    "# Process all instances in the dataset and collect data in a list\n",
    "data_list = []\n",
    "\n",
    "for index in range(data_sample.len()):\n",
    "    data_item = data_sample.get_item(index)\n",
    "    data_list.append(data_item['audio'])\n",
    "\n",
    "# Create a DataFrame from the collected data\n",
    "df = pd.DataFrame(data_list)\n",
    "\n",
    "# Now, 'df' contains data from all instances in your dataset in DataFrame format\n"
   ]
  },
  {
   "cell_type": "code",
   "execution_count": 163,
   "metadata": {},
   "outputs": [
    {
     "data": {
      "text/plain": [
       "(486, 112535)"
      ]
     },
     "execution_count": 163,
     "metadata": {},
     "output_type": "execute_result"
    }
   ],
   "source": [
    "df.shape"
   ]
  },
  {
   "cell_type": "code",
   "execution_count": 160,
   "metadata": {
    "scrolled": true
   },
   "outputs": [
    {
     "data": {
      "text/html": [
       "<div>\n",
       "<style scoped>\n",
       "    .dataframe tbody tr th:only-of-type {\n",
       "        vertical-align: middle;\n",
       "    }\n",
       "\n",
       "    .dataframe tbody tr th {\n",
       "        vertical-align: top;\n",
       "    }\n",
       "\n",
       "    .dataframe thead th {\n",
       "        text-align: right;\n",
       "    }\n",
       "</style>\n",
       "<table border=\"1\" class=\"dataframe\">\n",
       "  <thead>\n",
       "    <tr style=\"text-align: right;\">\n",
       "      <th></th>\n",
       "      <th>0</th>\n",
       "      <th>1</th>\n",
       "      <th>2</th>\n",
       "      <th>3</th>\n",
       "      <th>4</th>\n",
       "      <th>5</th>\n",
       "      <th>6</th>\n",
       "      <th>7</th>\n",
       "      <th>8</th>\n",
       "      <th>9</th>\n",
       "      <th>...</th>\n",
       "      <th>112525</th>\n",
       "      <th>112526</th>\n",
       "      <th>112527</th>\n",
       "      <th>112528</th>\n",
       "      <th>112529</th>\n",
       "      <th>112530</th>\n",
       "      <th>112531</th>\n",
       "      <th>112532</th>\n",
       "      <th>112533</th>\n",
       "      <th>112534</th>\n",
       "    </tr>\n",
       "  </thead>\n",
       "  <tbody>\n",
       "    <tr>\n",
       "      <th>0</th>\n",
       "      <td>0.557489</td>\n",
       "      <td>0.348436</td>\n",
       "      <td>-0.113653</td>\n",
       "      <td>0.055789</td>\n",
       "      <td>-0.044814</td>\n",
       "      <td>0.005405</td>\n",
       "      <td>-0.011952</td>\n",
       "      <td>-0.020289</td>\n",
       "      <td>-0.019413</td>\n",
       "      <td>0.000811</td>\n",
       "      <td>...</td>\n",
       "      <td>NaN</td>\n",
       "      <td>NaN</td>\n",
       "      <td>NaN</td>\n",
       "      <td>NaN</td>\n",
       "      <td>NaN</td>\n",
       "      <td>NaN</td>\n",
       "      <td>NaN</td>\n",
       "      <td>NaN</td>\n",
       "      <td>NaN</td>\n",
       "      <td>NaN</td>\n",
       "    </tr>\n",
       "    <tr>\n",
       "      <th>1</th>\n",
       "      <td>-0.001030</td>\n",
       "      <td>0.001721</td>\n",
       "      <td>-0.020557</td>\n",
       "      <td>0.007080</td>\n",
       "      <td>-0.008740</td>\n",
       "      <td>-0.012104</td>\n",
       "      <td>-0.003091</td>\n",
       "      <td>-0.014483</td>\n",
       "      <td>-0.006900</td>\n",
       "      <td>-0.029770</td>\n",
       "      <td>...</td>\n",
       "      <td>NaN</td>\n",
       "      <td>NaN</td>\n",
       "      <td>NaN</td>\n",
       "      <td>NaN</td>\n",
       "      <td>NaN</td>\n",
       "      <td>NaN</td>\n",
       "      <td>NaN</td>\n",
       "      <td>NaN</td>\n",
       "      <td>NaN</td>\n",
       "      <td>NaN</td>\n",
       "    </tr>\n",
       "    <tr>\n",
       "      <th>2</th>\n",
       "      <td>-0.011920</td>\n",
       "      <td>0.031005</td>\n",
       "      <td>-0.020208</td>\n",
       "      <td>-0.004401</td>\n",
       "      <td>0.053533</td>\n",
       "      <td>-0.032835</td>\n",
       "      <td>0.022671</td>\n",
       "      <td>-0.028365</td>\n",
       "      <td>-0.000123</td>\n",
       "      <td>-0.046911</td>\n",
       "      <td>...</td>\n",
       "      <td>NaN</td>\n",
       "      <td>NaN</td>\n",
       "      <td>NaN</td>\n",
       "      <td>NaN</td>\n",
       "      <td>NaN</td>\n",
       "      <td>NaN</td>\n",
       "      <td>NaN</td>\n",
       "      <td>NaN</td>\n",
       "      <td>NaN</td>\n",
       "      <td>NaN</td>\n",
       "    </tr>\n",
       "    <tr>\n",
       "      <th>3</th>\n",
       "      <td>0.011956</td>\n",
       "      <td>0.002088</td>\n",
       "      <td>-0.121541</td>\n",
       "      <td>0.066116</td>\n",
       "      <td>0.100064</td>\n",
       "      <td>-0.053900</td>\n",
       "      <td>-0.008407</td>\n",
       "      <td>0.021989</td>\n",
       "      <td>0.033303</td>\n",
       "      <td>0.007596</td>\n",
       "      <td>...</td>\n",
       "      <td>NaN</td>\n",
       "      <td>NaN</td>\n",
       "      <td>NaN</td>\n",
       "      <td>NaN</td>\n",
       "      <td>NaN</td>\n",
       "      <td>NaN</td>\n",
       "      <td>NaN</td>\n",
       "      <td>NaN</td>\n",
       "      <td>NaN</td>\n",
       "      <td>NaN</td>\n",
       "    </tr>\n",
       "    <tr>\n",
       "      <th>4</th>\n",
       "      <td>0.002953</td>\n",
       "      <td>0.002045</td>\n",
       "      <td>0.001279</td>\n",
       "      <td>0.002441</td>\n",
       "      <td>-0.000293</td>\n",
       "      <td>-0.006103</td>\n",
       "      <td>-0.002393</td>\n",
       "      <td>-0.008867</td>\n",
       "      <td>-0.011169</td>\n",
       "      <td>-0.010312</td>\n",
       "      <td>...</td>\n",
       "      <td>NaN</td>\n",
       "      <td>NaN</td>\n",
       "      <td>NaN</td>\n",
       "      <td>NaN</td>\n",
       "      <td>NaN</td>\n",
       "      <td>NaN</td>\n",
       "      <td>NaN</td>\n",
       "      <td>NaN</td>\n",
       "      <td>NaN</td>\n",
       "      <td>NaN</td>\n",
       "    </tr>\n",
       "    <tr>\n",
       "      <th>5</th>\n",
       "      <td>0.055221</td>\n",
       "      <td>-0.022427</td>\n",
       "      <td>0.076958</td>\n",
       "      <td>0.159603</td>\n",
       "      <td>-0.023226</td>\n",
       "      <td>-0.322013</td>\n",
       "      <td>-0.027269</td>\n",
       "      <td>0.055263</td>\n",
       "      <td>-0.150738</td>\n",
       "      <td>0.212027</td>\n",
       "      <td>...</td>\n",
       "      <td>NaN</td>\n",
       "      <td>NaN</td>\n",
       "      <td>NaN</td>\n",
       "      <td>NaN</td>\n",
       "      <td>NaN</td>\n",
       "      <td>NaN</td>\n",
       "      <td>NaN</td>\n",
       "      <td>NaN</td>\n",
       "      <td>NaN</td>\n",
       "      <td>NaN</td>\n",
       "    </tr>\n",
       "    <tr>\n",
       "      <th>6</th>\n",
       "      <td>0.064723</td>\n",
       "      <td>0.449443</td>\n",
       "      <td>0.240411</td>\n",
       "      <td>0.392366</td>\n",
       "      <td>-0.127555</td>\n",
       "      <td>-0.757886</td>\n",
       "      <td>0.516801</td>\n",
       "      <td>0.377479</td>\n",
       "      <td>0.349163</td>\n",
       "      <td>-0.139783</td>\n",
       "      <td>...</td>\n",
       "      <td>-0.003199</td>\n",
       "      <td>-0.006963</td>\n",
       "      <td>0.006543</td>\n",
       "      <td>0.005473</td>\n",
       "      <td>0.009875</td>\n",
       "      <td>0.010734</td>\n",
       "      <td>0.003292</td>\n",
       "      <td>0.003477</td>\n",
       "      <td>0.005621</td>\n",
       "      <td>0.0</td>\n",
       "    </tr>\n",
       "    <tr>\n",
       "      <th>7</th>\n",
       "      <td>0.005471</td>\n",
       "      <td>-0.000282</td>\n",
       "      <td>-0.002897</td>\n",
       "      <td>0.000909</td>\n",
       "      <td>-0.008193</td>\n",
       "      <td>0.002718</td>\n",
       "      <td>-0.003633</td>\n",
       "      <td>0.002592</td>\n",
       "      <td>0.005120</td>\n",
       "      <td>0.004356</td>\n",
       "      <td>...</td>\n",
       "      <td>NaN</td>\n",
       "      <td>NaN</td>\n",
       "      <td>NaN</td>\n",
       "      <td>NaN</td>\n",
       "      <td>NaN</td>\n",
       "      <td>NaN</td>\n",
       "      <td>NaN</td>\n",
       "      <td>NaN</td>\n",
       "      <td>NaN</td>\n",
       "      <td>NaN</td>\n",
       "    </tr>\n",
       "    <tr>\n",
       "      <th>8</th>\n",
       "      <td>0.009109</td>\n",
       "      <td>0.012159</td>\n",
       "      <td>0.014391</td>\n",
       "      <td>0.020304</td>\n",
       "      <td>0.025254</td>\n",
       "      <td>0.038012</td>\n",
       "      <td>0.042396</td>\n",
       "      <td>0.038361</td>\n",
       "      <td>0.027895</td>\n",
       "      <td>0.029839</td>\n",
       "      <td>...</td>\n",
       "      <td>NaN</td>\n",
       "      <td>NaN</td>\n",
       "      <td>NaN</td>\n",
       "      <td>NaN</td>\n",
       "      <td>NaN</td>\n",
       "      <td>NaN</td>\n",
       "      <td>NaN</td>\n",
       "      <td>NaN</td>\n",
       "      <td>NaN</td>\n",
       "      <td>NaN</td>\n",
       "    </tr>\n",
       "    <tr>\n",
       "      <th>9</th>\n",
       "      <td>0.026612</td>\n",
       "      <td>0.021625</td>\n",
       "      <td>-0.006665</td>\n",
       "      <td>-0.008596</td>\n",
       "      <td>-0.019870</td>\n",
       "      <td>-0.027778</td>\n",
       "      <td>-0.024312</td>\n",
       "      <td>-0.018751</td>\n",
       "      <td>-0.007648</td>\n",
       "      <td>-0.001534</td>\n",
       "      <td>...</td>\n",
       "      <td>NaN</td>\n",
       "      <td>NaN</td>\n",
       "      <td>NaN</td>\n",
       "      <td>NaN</td>\n",
       "      <td>NaN</td>\n",
       "      <td>NaN</td>\n",
       "      <td>NaN</td>\n",
       "      <td>NaN</td>\n",
       "      <td>NaN</td>\n",
       "      <td>NaN</td>\n",
       "    </tr>\n",
       "  </tbody>\n",
       "</table>\n",
       "<p>10 rows × 112535 columns</p>\n",
       "</div>"
      ],
      "text/plain": [
       "     0         1         2         3         4         5         6       \\\n",
       "0  0.557489  0.348436 -0.113653  0.055789 -0.044814  0.005405 -0.011952   \n",
       "1 -0.001030  0.001721 -0.020557  0.007080 -0.008740 -0.012104 -0.003091   \n",
       "2 -0.011920  0.031005 -0.020208 -0.004401  0.053533 -0.032835  0.022671   \n",
       "3  0.011956  0.002088 -0.121541  0.066116  0.100064 -0.053900 -0.008407   \n",
       "4  0.002953  0.002045  0.001279  0.002441 -0.000293 -0.006103 -0.002393   \n",
       "5  0.055221 -0.022427  0.076958  0.159603 -0.023226 -0.322013 -0.027269   \n",
       "6  0.064723  0.449443  0.240411  0.392366 -0.127555 -0.757886  0.516801   \n",
       "7  0.005471 -0.000282 -0.002897  0.000909 -0.008193  0.002718 -0.003633   \n",
       "8  0.009109  0.012159  0.014391  0.020304  0.025254  0.038012  0.042396   \n",
       "9  0.026612  0.021625 -0.006665 -0.008596 -0.019870 -0.027778 -0.024312   \n",
       "\n",
       "     7         8         9       ...    112525    112526    112527    112528  \\\n",
       "0 -0.020289 -0.019413  0.000811  ...       NaN       NaN       NaN       NaN   \n",
       "1 -0.014483 -0.006900 -0.029770  ...       NaN       NaN       NaN       NaN   \n",
       "2 -0.028365 -0.000123 -0.046911  ...       NaN       NaN       NaN       NaN   \n",
       "3  0.021989  0.033303  0.007596  ...       NaN       NaN       NaN       NaN   \n",
       "4 -0.008867 -0.011169 -0.010312  ...       NaN       NaN       NaN       NaN   \n",
       "5  0.055263 -0.150738  0.212027  ...       NaN       NaN       NaN       NaN   \n",
       "6  0.377479  0.349163 -0.139783  ... -0.003199 -0.006963  0.006543  0.005473   \n",
       "7  0.002592  0.005120  0.004356  ...       NaN       NaN       NaN       NaN   \n",
       "8  0.038361  0.027895  0.029839  ...       NaN       NaN       NaN       NaN   \n",
       "9 -0.018751 -0.007648 -0.001534  ...       NaN       NaN       NaN       NaN   \n",
       "\n",
       "     112529    112530    112531    112532    112533  112534  \n",
       "0       NaN       NaN       NaN       NaN       NaN     NaN  \n",
       "1       NaN       NaN       NaN       NaN       NaN     NaN  \n",
       "2       NaN       NaN       NaN       NaN       NaN     NaN  \n",
       "3       NaN       NaN       NaN       NaN       NaN     NaN  \n",
       "4       NaN       NaN       NaN       NaN       NaN     NaN  \n",
       "5       NaN       NaN       NaN       NaN       NaN     NaN  \n",
       "6  0.009875  0.010734  0.003292  0.003477  0.005621     0.0  \n",
       "7       NaN       NaN       NaN       NaN       NaN     NaN  \n",
       "8       NaN       NaN       NaN       NaN       NaN     NaN  \n",
       "9       NaN       NaN       NaN       NaN       NaN     NaN  \n",
       "\n",
       "[10 rows x 112535 columns]"
      ]
     },
     "execution_count": 160,
     "metadata": {},
     "output_type": "execute_result"
    }
   ],
   "source": [
    "df.head(10)"
   ]
  },
  {
   "cell_type": "code",
   "execution_count": null,
   "metadata": {},
   "outputs": [],
   "source": [
    "# drop nans "
   ]
  },
  {
   "cell_type": "code",
   "execution_count": 162,
   "metadata": {},
   "outputs": [],
   "source": [
    "df.to_csv(\"/userfiles/ajamshidi18/PCG_timeseris_normal.csv\")"
   ]
  },
  {
   "cell_type": "code",
   "execution_count": 7,
   "metadata": {
    "scrolled": true
   },
   "outputs": [
    {
     "data": {
      "text/plain": [
       "[<matplotlib.lines.Line2D at 0x2b6c64a52410>]"
      ]
     },
     "execution_count": 7,
     "metadata": {},
     "output_type": "execute_result"
    },
    {
     "data": {
      "image/png": "[encoded data removed]",
      "text/plain": [
       "<Figure size 640x480 with 1 Axes>"
      ]
     },
     "metadata": {},
     "output_type": "display_data"
    }
   ],
   "source": [
    "import matplotlib.pyplot as plt\n",
    "plt.plot(data['audio'])"
   ]
  },
  {
   "cell_type": "code",
   "execution_count": 31,
   "metadata": {
    "scrolled": true
   },
   "outputs": [],
   "source": [
    "# current sampling rate #of_dataPoints/sec length of the signal\n",
    "\n",
    "# get the highest frequency *2 = new sampling rate\n",
    "# roll_off = librosa.effects.rolloff(data['audio'], sr=data['sr'])\n",
    "# print('the highest frequency in the signal ', roll_off)"
   ]
  },
  {
   "cell_type": "code",
   "execution_count": 27,
   "metadata": {},
   "outputs": [
    {
     "name": "stdout",
     "output_type": "stream",
     "text": [
      "Highest Existing Frequency: 1236.328125 Hz\n"
     ]
    }
   ],
   "source": [
    "# Compute the spectrogram of the audio signal\n",
    "D = np.abs(librosa.stft(data['audio']))\n",
    "\n",
    "# Find the frequency bin with the maximum energy\n",
    "max_bin = np.argmax(D, axis=0)\n",
    "\n",
    "# Convert the frequency bin to Hertz\n",
    "frequencies = librosa.fft_frequencies(sr=data['sr'])\n",
    "highest_frequency = np.max(frequencies[max_bin])\n",
    "\n",
    "print(f\"Highest Existing Frequency: {highest_frequency} Hz\")"
   ]
  },
  {
   "cell_type": "code",
   "execution_count": 24,
   "metadata": {},
   "outputs": [
    {
     "data": {
      "text/plain": [
       "(4000, 83008)"
      ]
     },
     "execution_count": 24,
     "metadata": {},
     "output_type": "execute_result"
    }
   ],
   "source": [
    "data['sr'], len(data['audio'])"
   ]
  },
  {
   "cell_type": "code",
   "execution_count": 28,
   "metadata": {},
   "outputs": [],
   "source": [
    "desired_sr = 2600  # Replace with your desired sampling rate\n",
    "\n",
    "# Resample the audio signal to the desired sampling rate\n",
    "y_resampled = librosa.resample(data['audio'], orig_sr=data['sr'], target_sr=desired_sr)"
   ]
  },
  {
   "cell_type": "code",
   "execution_count": 29,
   "metadata": {},
   "outputs": [
    {
     "data": {
      "text/plain": [
       "[<matplotlib.lines.Line2D at 0x2b6cf33de790>]"
      ]
     },
     "execution_count": 29,
     "metadata": {},
     "output_type": "execute_result"
    },
    {
     "data": {
      "image/png": "[encoded data removed]",
      "text/plain": [
       "<Figure size 640x480 with 1 Axes>"
      ]
     },
     "metadata": {},
     "output_type": "display_data"
    }
   ],
   "source": [
    "plt.plot(y_resampled)"
   ]
  },
  {
   "cell_type": "code",
   "execution_count": 30,
   "metadata": {},
   "outputs": [
    {
     "data": {
      "text/plain": [
       "53956"
      ]
     },
     "execution_count": 30,
     "metadata": {},
     "output_type": "execute_result"
    }
   ],
   "source": [
    "len(y_resampled)"
   ]
  },
  {
   "cell_type": "code",
   "execution_count": 32,
   "metadata": {},
   "outputs": [
    {
     "data": {
      "text/plain": [
       "[<matplotlib.lines.Line2D at 0x2b6cf3468250>]"
      ]
     },
     "execution_count": 32,
     "metadata": {},
     "output_type": "execute_result"
    },
    {
     "data": {
      "image/png": "[encoded data removed]",
      "text/plain": [
       "<Figure size 640x480 with 1 Axes>"
      ]
     },
     "metadata": {},
     "output_type": "display_data"
    }
   ],
   "source": [
    "import matplotlib.pyplot as plt\n",
    "plt.plot(data['audio'])"
   ]
  },
  {
   "cell_type": "code",
   "execution_count": null,
   "metadata": {},
   "outputs": [],
   "source": [
    "# looks good! "
   ]
  }
 ],
 "metadata": {
  "kernelspec": {
   "display_name": "bio-sig",
   "language": "python",
   "name": "bio-sig"
  },
  "language_info": {
   "codemirror_mode": {
    "name": "ipython",
    "version": 3
   },
   "file_extension": ".py",
   "mimetype": "text/x-python",
   "name": "python",
   "nbconvert_exporter": "python",
   "pygments_lexer": "ipython3",
   "version": "3.7.13"
  }
 },
 "nbformat": 4,
 "nbformat_minor": 2
}
